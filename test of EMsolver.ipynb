{
 "cells": [
  {
   "cell_type": "code",
   "execution_count": 1,
   "id": "unexpected-midnight",
   "metadata": {},
   "outputs": [
    {
     "name": "stderr",
     "output_type": "stream",
     "text": [
      "2021-04-04 21:54:30,012\tINFO services.py:1172 -- View the Ray dashboard at \u001b[1m\u001b[32mhttp://127.0.0.1:8265\u001b[39m\u001b[22m\n"
     ]
    },
    {
     "data": {
      "text/plain": [
       "{'node_ip_address': '210.45.78.32',\n",
       " 'raylet_ip_address': '210.45.78.32',\n",
       " 'redis_address': '210.45.78.32:6379',\n",
       " 'object_store_address': '/tmp/ray/session_2021-04-04_21-54-29_498029_1511783/sockets/plasma_store',\n",
       " 'raylet_socket_name': '/tmp/ray/session_2021-04-04_21-54-29_498029_1511783/sockets/raylet',\n",
       " 'webui_url': '127.0.0.1:8265',\n",
       " 'session_dir': '/tmp/ray/session_2021-04-04_21-54-29_498029_1511783',\n",
       " 'metrics_export_port': 50402,\n",
       " 'node_id': 'ae84d6eda2fecef3ed45885f5067571b884818bd4d85a4fedfaa4a74'}"
      ]
     },
     "execution_count": 1,
     "metadata": {},
     "output_type": "execute_result"
    }
   ],
   "source": [
    "from EMsolver.solver import EMsolver\n",
    "import numpy as np\n",
    "import math\n",
    "import os\n",
    "import cupy\n",
    "from numba import cuda\n",
    "import ray\n",
    "from EMsolver.region_distance import signal_indicator\n",
    "import matplotlib.pyplot as plt\n",
    "from timeit import default_timer as timer\n",
    "\n",
    "# start ray server\n",
    "ray.init(ignore_reinit_error=True)"
   ]
  },
  {
   "cell_type": "code",
   "execution_count": 2,
   "id": "about-korean",
   "metadata": {},
   "outputs": [],
   "source": [
    "def areal_position(i, d, left_boundary):\n",
    "    return i*d + d/2 + left_boundary\n",
    "\n",
    "# generate sinusodial sources of rho and J\n",
    "def generate_rho_J(time, dx, dy, dz, x_left_boundary, y_left_boundary, z_left_boundary, \\\n",
    "                   x_grid_size, y_grid_size, z_grid_size, total_spatial_grid_size):    \n",
    "    rho, Jx, Jy, Jz = (np.empty(total_spatial_grid_size, dtype=np.float32) for _ in range(4))\n",
    "    for i_spatial in range(total_spatial_grid_size):\n",
    "        iz = i_spatial%z_grid_size\n",
    "        iz_rest = i_spatial//z_grid_size\n",
    "        iy = iz_rest%y_grid_size\n",
    "        iy_rest = iz_rest//y_grid_size\n",
    "        ix = iy_rest%x_grid_size\n",
    "        x, y, z = areal_position(ix, dx, x_left_boundary), areal_position(iy, dy, y_left_boundary), areal_position(iz, dz, z_left_boundary)\n",
    "        Jx[i_spatial] = math.sin(x+y+z)*math.sin(time)\n",
    "        Jy[i_spatial] = Jx[i_spatial]\n",
    "        Jz[i_spatial] = Jx[i_spatial]\n",
    "        rho[i_spatial] = 3*(math.cos(time)-1)*math.cos(x+y+z)\n",
    "    return Jx, Jy, Jz, rho"
   ]
  },
  {
   "cell_type": "code",
   "execution_count": 3,
   "id": "concrete-longitude",
   "metadata": {},
   "outputs": [
    {
     "name": "stdout",
     "output_type": "stream",
     "text": [
      "evaluation time: 5.648948241025209\n"
     ]
    }
   ],
   "source": [
    "# define the length of the sources\n",
    "# rho_GPU and Jx_GPU are of shape [len_time_snapshots, total_grid_size]\n",
    "len_time_snapshots = 208\n",
    "\n",
    "# the regions are seperated as the source region and the observation region\n",
    "x_grid_size_o, y_grid_size_o, z_grid_size_o = 5,5,5\n",
    "x_grid_size_s, y_grid_size_s, z_grid_size_s = 5,5,5\n",
    "dt = 0.05\n",
    "i_GPU = '0'\n",
    "\n",
    "# the infinitesimals of the regions\n",
    "# here the source region and observational region are overlap\n",
    "dx_o, dy_o, dz_o, x_left_boundary_o, y_left_boundary_o, z_left_boundary_o = \\\n",
    "                       6/x_grid_size_o, 6/y_grid_size_o, 6/z_grid_size_o, -3, -3, -3\n",
    "dx_s, dy_s, dz_s, x_left_boundary_s, y_left_boundary_s, z_left_boundary_s = \\\n",
    "                       6/x_grid_size_s, 6/y_grid_size_s, 6/z_grid_size_s, -3, -3, -3\n",
    "\n",
    "# load the remote server\n",
    "f = EMsolver.remote(len_time_snapshots, i_GPU, \\\n",
    "                    x_grid_size_o, y_grid_size_o, z_grid_size_o, \\\n",
    "                    x_grid_size_s, y_grid_size_s, z_grid_size_s, \\\n",
    "                    dx_o, dy_o, dz_o, x_left_boundary_o, y_left_boundary_o, z_left_boundary_o, \\\n",
    "                    dx_s, dy_s, dz_s, x_left_boundary_s, y_left_boundary_s, z_left_boundary_s, \\\n",
    "                    dt)\n",
    "\n",
    "# toy model of constant sources\n",
    "rho= np.ones(x_grid_size_s*y_grid_size_s*z_grid_size_s, dtype=np.float32)\n",
    "Jx, Jy, Jz = (np.ones(x_grid_size_s*y_grid_size_s*z_grid_size_s, dtype=np.float32) for _ in range(3))\n",
    "Ex, Ey, Bx, By = (np.zeros(x_grid_size_s*y_grid_size_s*z_grid_size_s, dtype=np.float32) for _ in range(4))\n",
    "\n",
    "Ex_list, Ey_list, Ez_list, Bx_list, By_list, Bz_list= [], [], [], [], [], []\n",
    "\n",
    "start = timer()\n",
    "for time in range(410):\n",
    "  \n",
    "    # updata new rho and J \n",
    "    f.update_rho_J.remote(rho, Jx, Jy, Jz)\n",
    "\n",
    "    retarded_time = signal_indicator(dx_o, dy_o, dz_o, x_left_boundary_o, y_left_boundary_o, z_left_boundary_o, \\\n",
    "                                     dx_s, dy_s, dz_s, x_left_boundary_s, y_left_boundary_s, z_left_boundary_s, \\\n",
    "                                     x_grid_size_o, y_grid_size_o, z_grid_size_o, \\\n",
    "                                     x_grid_size_s, y_grid_size_s, z_grid_size_s)\n",
    "    if time*dt >= retarded_time:\n",
    "        Ex, Ey, _, Bx, By, _ = ray.get(f.Jefimenko_solver.remote())\n",
    "        \n",
    "        if time%1==0:\n",
    "            Ex_list.append(Ex.reshape([x_grid_size_o, y_grid_size_o, z_grid_size_o])[:,:,2])\n",
    "            Ey_list.append(Ey.reshape([x_grid_size_o, y_grid_size_o, z_grid_size_o])[:,:,2])\n",
    "            Bx_list.append(Bx.reshape([x_grid_size_o, y_grid_size_o, z_grid_size_o])[:,:,2])\n",
    "            By_list.append(By.reshape([x_grid_size_o, y_grid_size_o, z_grid_size_o])[:,:,2])\n",
    "end = timer()\n",
    "print('evaluation time:',end-start)     "
   ]
  },
  {
   "cell_type": "code",
   "execution_count": 4,
   "id": "electoral-wireless",
   "metadata": {},
   "outputs": [
    {
     "data": {
      "text/plain": [
       "array([[[-6.2666547e-01, -6.2666541e-01],\n",
       "        [-2.8636035e-01, -8.1468844e-01],\n",
       "        [ 5.1226419e-09, -8.6783046e-01],\n",
       "        [ 2.8636032e-01, -8.1468838e-01],\n",
       "        [ 6.2666529e-01, -6.2666535e-01]],\n",
       "\n",
       "       [[-8.1468850e-01, -2.8636038e-01],\n",
       "        [-3.7928158e-01, -3.7928161e-01],\n",
       "        [-1.2601699e-07, -4.1571468e-01],\n",
       "        [ 3.7928143e-01, -3.7928161e-01],\n",
       "        [ 8.1468815e-01, -2.8636038e-01]],\n",
       "\n",
       "       [[-8.6783051e-01, -1.3446934e-08],\n",
       "        [-4.1571471e-01, -2.9711321e-08],\n",
       "        [-3.9956607e-08, -1.3318869e-08],\n",
       "        [ 4.1571465e-01, -9.2207548e-09],\n",
       "        [ 8.6783028e-01, -6.1471699e-09]],\n",
       "\n",
       "       [[-8.1468838e-01,  2.8636035e-01],\n",
       "        [-3.7928164e-01,  3.7928155e-01],\n",
       "        [ 7.2741514e-08,  4.1571465e-01],\n",
       "        [ 3.7928167e-01,  3.7928161e-01],\n",
       "        [ 8.1468827e-01,  2.8636044e-01]],\n",
       "\n",
       "       [[-6.2666523e-01,  6.2666529e-01],\n",
       "        [-2.8636044e-01,  8.1468844e-01],\n",
       "        [-6.3520758e-08,  8.6783040e-01],\n",
       "        [ 2.8636050e-01,  8.1468838e-01],\n",
       "        [ 6.2666541e-01,  6.2666535e-01]]], dtype=float32)"
      ]
     },
     "execution_count": 4,
     "metadata": {},
     "output_type": "execute_result"
    }
   ],
   "source": [
    "np.transpose([Ex_list[102],Ey_list[102]])"
   ]
  },
  {
   "cell_type": "markdown",
   "id": "mediterranean-typing",
   "metadata": {},
   "source": [
    "you should get\n",
    "\n",
    "      [[[-6.2666547e-01, -6.2666541e-01],\n",
    "        [-2.8636035e-01, -8.1468844e-01],\n",
    "        [ 5.1226419e-09, -8.6783046e-01],\n",
    "        [ 2.8636032e-01, -8.1468838e-01],\n",
    "        [ 6.2666529e-01, -6.2666535e-01]],\n",
    "\n",
    "       [[-8.1468850e-01, -2.8636038e-01],\n",
    "        [-3.7928158e-01, -3.7928161e-01],\n",
    "        [-1.2601699e-07, -4.1571468e-01],\n",
    "        [ 3.7928143e-01, -3.7928161e-01],\n",
    "        [ 8.1468815e-01, -2.8636038e-01]],\n",
    "\n",
    "       [[-8.6783051e-01, -1.3446934e-08],\n",
    "        [-4.1571471e-01, -2.9711321e-08],\n",
    "        [-3.9956607e-08, -1.3318869e-08],\n",
    "        [ 4.1571465e-01, -9.2207548e-09],\n",
    "        [ 8.6783028e-01, -6.1471699e-09]],\n",
    "\n",
    "       [[-8.1468838e-01,  2.8636035e-01],\n",
    "        [-3.7928164e-01,  3.7928155e-01],\n",
    "        [ 7.2741514e-08,  4.1571465e-01],\n",
    "        [ 3.7928167e-01,  3.7928161e-01],\n",
    "        [ 8.1468827e-01,  2.8636044e-01]],\n",
    "\n",
    "       [[-6.2666523e-01,  6.2666529e-01],\n",
    "        [-2.8636044e-01,  8.1468844e-01],\n",
    "        [-6.3520758e-08,  8.6783040e-01],\n",
    "        [ 2.8636050e-01,  8.1468838e-01],\n",
    "        [ 6.2666541e-01,  6.2666535e-01]]]"
   ]
  },
  {
   "cell_type": "code",
   "execution_count": 5,
   "id": "portuguese-commerce",
   "metadata": {},
   "outputs": [
    {
     "data": {
      "image/png": "[encoded data removed]",
      "text/plain": [
       "<Figure size 432x288 with 1 Axes>"
      ]
     },
     "metadata": {
      "needs_background": "light"
     },
     "output_type": "display_data"
    }
   ],
   "source": [
    "X = np.arange(-2.4, 3, 1.2)\n",
    "Y = np.arange(-2.4, 3, 1.2)\n",
    "\n",
    "fig, ax = plt.subplots()\n",
    "q = ax.quiver(X, Y, Ex_list[102], Ey_list[102])\n",
    "ax.set_title('E_xy at XOY plane')\n",
    "\n",
    "plt.show()"
   ]
  },
  {
   "cell_type": "code",
   "execution_count": 6,
   "id": "alone-split",
   "metadata": {},
   "outputs": [
    {
     "name": "stdout",
     "output_type": "stream",
     "text": [
      "evaluation time: 4.534827593713999\n"
     ]
    }
   ],
   "source": [
    "# define the length of the sources\n",
    "# rho_GPU and Jx_GPU are of shape [len_time_snapshots, total_grid_size]\n",
    "len_time_snapshots = 420\n",
    "\n",
    "# the regions are seperated as the source region and the observation region\n",
    "x_grid_size_o, y_grid_size_o, z_grid_size_o = 5,5,5\n",
    "x_grid_size_s, y_grid_size_s, z_grid_size_s = 5,5,5\n",
    "dt = 0.05\n",
    "i_GPU = '0'\n",
    "\n",
    "# the infinitesimals of the regions\n",
    "# the two regions are not overlap\n",
    "dx_o, dy_o, dz_o, x_left_boundary_o, y_left_boundary_o, z_left_boundary_o = \\\n",
    "                                     6/x_grid_size_o, 6/y_grid_size_o, 6/z_grid_size_o, -3, -3, -3\n",
    "dx_s, dy_s, dz_s, x_left_boundary_s, y_left_boundary_s, z_left_boundary_s = \\\n",
    "                                     6/x_grid_size_s, 6/y_grid_size_s, 6/z_grid_size_s, -3, -3, 10\n",
    "\n",
    "# load the remote server\n",
    "f = EMsolver.remote(len_time_snapshots, i_GPU, \\\n",
    "                    x_grid_size_o, y_grid_size_o, z_grid_size_o, \\\n",
    "                    x_grid_size_s, y_grid_size_s, z_grid_size_s, \\\n",
    "                    dx_o, dy_o, dz_o, x_left_boundary_o, y_left_boundary_o, z_left_boundary_o, \\\n",
    "                    dx_s, dy_s, dz_s, x_left_boundary_s, y_left_boundary_s, z_left_boundary_s, \\\n",
    "                    dt)\n",
    "\n",
    "# toy model of constant sources\n",
    "rho= np.ones(x_grid_size_s*y_grid_size_s*z_grid_size_s, dtype=np.float32)\n",
    "Jx, Jy, Jz = (np.ones(x_grid_size_s*y_grid_size_s*z_grid_size_s, dtype=np.float32) for _ in range(3))\n",
    "Ex, Ey, Bx, By = (np.zeros(x_grid_size_s*y_grid_size_s*z_grid_size_s, dtype=np.float32) for _ in range(4))\n",
    "\n",
    "Ex_list, Ey_list, Ez_list, Bx_list, By_list, Bz_list= [], [], [], [], [], []\n",
    "\n",
    "start = timer()\n",
    "for time in range(410):\n",
    "\n",
    "    # acquire new rho and J\n",
    "    Jx, Jy, Jz, rho = generate_rho_J(time*dt, dx_s, dy_s, dz_s, x_left_boundary_s, y_left_boundary_s, z_left_boundary_s, \\\n",
    "                                     x_grid_size_s, y_grid_size_s, z_grid_size_s, x_grid_size_s*y_grid_size_s*z_grid_size_s)\n",
    "    \n",
    "    # updata new rho and J \n",
    "    f.update_rho_J.remote(rho, Jx, Jy, Jz)\n",
    "\n",
    "    retarded_time = signal_indicator(dx_o, dy_o, dz_o, x_left_boundary_o, y_left_boundary_o, z_left_boundary_o, \\\n",
    "                                     dx_s, dy_s, dz_s, x_left_boundary_s, y_left_boundary_s, z_left_boundary_s, \\\n",
    "                                     x_grid_size_o, y_grid_size_o, z_grid_size_o, \\\n",
    "                                     x_grid_size_s, y_grid_size_s, z_grid_size_s)\n",
    "    if time*dt >= retarded_time:\n",
    "        Ex, Ey, _, Bx, By, _ = ray.get(f.Jefimenko_solver.remote())\n",
    "        \n",
    "        if time%1==0:\n",
    "            Ex_list.append(Ex.reshape([x_grid_size_o, y_grid_size_o, z_grid_size_o])[:,:,2])\n",
    "            Ey_list.append(Ey.reshape([x_grid_size_o, y_grid_size_o, z_grid_size_o])[:,:,2])\n",
    "            Bx_list.append(Bx.reshape([x_grid_size_o, y_grid_size_o, z_grid_size_o])[:,:,2])\n",
    "            By_list.append(By.reshape([x_grid_size_o, y_grid_size_o, z_grid_size_o])[:,:,2])\n",
    "end = timer()\n",
    "print('evaluation time:',end-start)     \n",
    "            "
   ]
  },
  {
   "cell_type": "code",
   "execution_count": 7,
   "id": "consistent-phase",
   "metadata": {},
   "outputs": [
    {
     "data": {
      "text/plain": [
       "array([[[ 0.04846862,  0.04846862],\n",
       "        [ 0.04448292,  0.03987582],\n",
       "        [ 0.00884735,  0.00604565],\n",
       "        [-0.01361285, -0.0092989 ],\n",
       "        [-0.02270786, -0.01158025]],\n",
       "\n",
       "       [[ 0.03987582,  0.04448293],\n",
       "        [ 0.01391405,  0.01391406],\n",
       "        [-0.00441413, -0.00811273],\n",
       "        [-0.00819116, -0.00990828],\n",
       "        [ 0.00527389,  0.0095917 ]],\n",
       "\n",
       "       [[ 0.00604566,  0.00884734],\n",
       "        [-0.00811272, -0.00441413],\n",
       "        [ 0.00732641,  0.00732641],\n",
       "        [ 0.0064563 ,  0.00361152],\n",
       "        [ 0.01901778,  0.01854202]],\n",
       "\n",
       "       [[-0.00929889, -0.01361285],\n",
       "        [-0.00990828, -0.00819116],\n",
       "        [ 0.00361151,  0.0064563 ],\n",
       "        [ 0.0350694 ,  0.0350694 ],\n",
       "        [ 0.01968484,  0.01864913]],\n",
       "\n",
       "       [[-0.01158025, -0.02270786],\n",
       "        [ 0.0095917 ,  0.00527389],\n",
       "        [ 0.01854203,  0.01901778],\n",
       "        [ 0.01864913,  0.01968484],\n",
       "        [-0.01724102, -0.01724103]]], dtype=float32)"
      ]
     },
     "execution_count": 7,
     "metadata": {},
     "output_type": "execute_result"
    }
   ],
   "source": [
    "np.transpose([Ex_list[111],Ey_list[111]])"
   ]
  },
  {
   "cell_type": "markdown",
   "id": "useful-anderson",
   "metadata": {},
   "source": [
    "you should get\n",
    "\n",
    "      [[[ 0.04846862,  0.04846862],\n",
    "        [ 0.04448292,  0.03987582],\n",
    "        [ 0.00884735,  0.00604565],\n",
    "        [-0.01361285, -0.0092989 ],\n",
    "        [-0.02270786, -0.01158025]],\n",
    "\n",
    "       [[ 0.03987582,  0.04448293],\n",
    "        [ 0.01391405,  0.01391406],\n",
    "        [-0.00441413, -0.00811273],\n",
    "        [-0.00819116, -0.00990828],\n",
    "        [ 0.00527389,  0.0095917 ]],\n",
    "\n",
    "       [[ 0.00604566,  0.00884734],\n",
    "        [-0.00811272, -0.00441413],\n",
    "        [ 0.00732641,  0.00732641],\n",
    "        [ 0.0064563 ,  0.00361152],\n",
    "        [ 0.01901778,  0.01854202]],\n",
    "\n",
    "       [[-0.00929889, -0.01361285],\n",
    "        [-0.00990828, -0.00819116],\n",
    "        [ 0.00361151,  0.0064563 ],\n",
    "        [ 0.0350694 ,  0.0350694 ],\n",
    "        [ 0.01968484,  0.01864913]],\n",
    "\n",
    "       [[-0.01158025, -0.02270786],\n",
    "        [ 0.0095917 ,  0.00527389],\n",
    "        [ 0.01854203,  0.01901778],\n",
    "        [ 0.01864913,  0.01968484],\n",
    "        [-0.01724102, -0.01724103]]]"
   ]
  },
  {
   "cell_type": "code",
   "execution_count": 8,
   "id": "diagnostic-welsh",
   "metadata": {},
   "outputs": [
    {
     "data": {
      "image/png": "[encoded data removed]",
      "text/plain": [
       "<Figure size 432x288 with 1 Axes>"
      ]
     },
     "metadata": {
      "needs_background": "light"
     },
     "output_type": "display_data"
    }
   ],
   "source": [
    "X = np.arange(-2.4, 3, 1.2)\n",
    "Y = np.arange(-2.4, 3, 1.2)\n",
    "\n",
    "fig, ax = plt.subplots()\n",
    "q = ax.quiver(X, Y, Ex_list[111], Ey_list[111])\n",
    "ax.set_title('E_xy at XOY plane')\n",
    "\n",
    "plt.show()"
   ]
  },
  {
   "cell_type": "code",
   "execution_count": null,
   "id": "wooden-wisdom",
   "metadata": {},
   "outputs": [],
   "source": []
  },
  {
   "cell_type": "code",
   "execution_count": null,
   "id": "af63b386",
   "metadata": {},
   "outputs": [],
   "source": []
  }
 ],
 "metadata": {
  "kernelspec": {
   "display_name": "Python 3",
   "language": "python",
   "name": "python3"
  },
  "language_info": {
   "codemirror_mode": {
    "name": "ipython",
    "version": 3
   },
   "file_extension": ".py",
   "mimetype": "text/x-python",
   "name": "python",
   "nbconvert_exporter": "python",
   "pygments_lexer": "ipython3",
   "version": "3.8.8"
  }
 },
 "nbformat": 4,
 "nbformat_minor": 5
}
